{
 "cells": [
  {
   "cell_type": "code",
   "execution_count": 2,
   "id": "2a272579-89a3-49ec-be07-0073c4053270",
   "metadata": {},
   "outputs": [
    {
     "name": "stderr",
     "output_type": "stream",
     "text": [
      "C:\\Users\\knigh\\AppData\\Local\\Temp\\ipykernel_14284\\2163330446.py:7: RuntimeWarning: invalid value encountered in divide\n",
      "  tp_acc = basketball_data[:,4] / basketball_data[:,5]\n"
     ]
    }
   ],
   "source": [
    "import numpy as np\n",
    "import scipy as scipy\n",
    "from scipy import stats\n",
    "basketball_data = np.loadtxt('NBA_Player_Stats.tsv', delimiter = '\\t', skiprows = 1, usecols = range(5,22))\n",
    "player_data = np.loadtxt('NBA_Player_Stats.tsv', delimiter = '\\t', skiprows = 1, usecols = range(1,4), dtype = 'str')\n",
    "reg_season = player_data[:,1]\n",
    "tp_acc = basketball_data[:,4] / basketball_data[:,5]\n",
    "FGM = basketball_data[:,2]\n",
    "FGA = basketball_data[:,3]"
   ]
  },
  {
   "cell_type": "code",
   "execution_count": 4,
   "id": "dafff2de-8fea-4e8d-8c82-fb20fbbaf71d",
   "metadata": {},
   "outputs": [
    {
     "name": "stdout",
     "output_type": "stream",
     "text": [
      "['Regular_Season' 'Regular_Season' 'Regular_Season' ... 'Regular_Season'\n",
      " 'Regular_Season' 'Regular_Season']\n"
     ]
    },
    {
     "data": {
      "text/plain": [
       "array([['2006 - 2007', 'Regular_Season', 'Andrew Bynum'],\n",
       "       ['2006 - 2007', 'Regular_Season', 'Brent Barry'],\n",
       "       ['2006 - 2007', 'Regular_Season', 'Morris Peterson'],\n",
       "       ...,\n",
       "       ['2013 - 2014', 'Regular_Season', 'Steven Adams'],\n",
       "       ['2013 - 2014', 'Regular_Season', 'Ish Smith'],\n",
       "       ['1999 - 2000', 'Regular_Season', \"Shaquille O'Neal\"]],\n",
       "      dtype='<U24')"
      ]
     },
     "execution_count": 4,
     "metadata": {},
     "output_type": "execute_result"
    }
   ],
   "source": [
    "#filter the dataset so it only shows the NBA regular season data#\n",
    "reg_season = player_data[:,1]\n",
    "print(reg_season)\n",
    "#using the filtered dataset, determine the player who played the most regular seasons#\n",
    "np.sort(reg_season)[::-1][2:]\n",
    "season_sort = np.argsort(reg_season, axis = 0)[::-1][1:]\n",
    "(player_data[season_sort[1:]])\n"
   ]
  },
  {
   "cell_type": "code",
   "execution_count": null,
   "id": "c158f350-4a90-4ebe-bbd4-8b46dc27305c",
   "metadata": {},
   "outputs": [],
   "source": [
    "#calculate this player's three point accuracy for each season that they played#\n",
    "\n",
    "#perform a linear regression for their three point accuracy across the years played, and create a line of best fit#\n",
    "\n",
    "#calculate the average three point accuracy by integrating the fir line over the played seasons and dividing by the number difference in played seasons (lastest season - earliest season)# \n",
    "# How does this value compared to the actual average number of 3-pointers made by this player#\n",
    "\n",
    "#This player did not participate in the 2002-2003 and 2015-2016 seasons. Use interpolation to estimate these missing values#\n"
   ]
  },
  {
   "cell_type": "code",
   "execution_count": 16,
   "id": "e97396c2-082f-4e0b-8720-6069a1730046",
   "metadata": {},
   "outputs": [
    {
     "name": "stdout",
     "output_type": "stream",
     "text": [
      "(50.0, 400.0, 0.0, 0.0)\n",
      "TtestResult(statistic=-133.0069641490044, pvalue=0.0, df=4657)\n",
      "TtestResult(statistic=133.05195189409346, pvalue=0.0, df=4657)\n",
      "TtestResult(statistic=127.74532024362836, pvalue=0.0, df=4657)\n"
     ]
    }
   ],
   "source": [
    "#calculate the statistical mean, variance, skew, and kurtosis for the field goals made (FGM) column and the field goals attempted (FGA) column#\n",
    "#How do the statistics from the FGM compared to the FGA column#\n",
    "print(scipy.stats.norm.stats(loc = 50, scale = 20, moments = 'mvsk'))\n",
    "\n",
    "#perform a relational t-test on Field Goals Made (FGM) and Field Goals Attempted (FGA) columns#\n",
    "print(scipy.stats.ttest_rel(FGM, FGA))\n",
    "#perform a regular t-test on the FGM and FGA columns individually#\n",
    "print(scipy.stats.ttest_1samp(FGA, 10))\n",
    "print(scipy.stats.ttest_1samp(FGM, 10))"
   ]
  },
  {
   "cell_type": "code",
   "execution_count": null,
   "id": "da9dd372-4eed-4c51-a128-cd3e6fad5dbf",
   "metadata": {},
   "outputs": [],
   "source": []
  }
 ],
 "metadata": {
  "kernelspec": {
   "display_name": "base",
   "language": "python",
   "name": "python3"
  },
  "language_info": {
   "codemirror_mode": {
    "name": "ipython",
    "version": 3
   },
   "file_extension": ".py",
   "mimetype": "text/x-python",
   "name": "python",
   "nbconvert_exporter": "python",
   "pygments_lexer": "ipython3",
   "version": "3.11.5"
  }
 },
 "nbformat": 4,
 "nbformat_minor": 5
}
